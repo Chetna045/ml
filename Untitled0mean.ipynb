{
  "nbformat": 4,
  "nbformat_minor": 0,
  "metadata": {
    "colab": {
      "provenance": [],
      "authorship_tag": "ABX9TyPls8o4F9qFEWqkvsmzht65",
      "include_colab_link": true
    },
    "kernelspec": {
      "name": "python3",
      "display_name": "Python 3"
    },
    "language_info": {
      "name": "python"
    }
  },
  "cells": [
    {
      "cell_type": "markdown",
      "metadata": {
        "id": "view-in-github",
        "colab_type": "text"
      },
      "source": [
        "<a href=\"https://colab.research.google.com/github/Chetna045/ml/blob/main/Untitled0mean.ipynb\" target=\"_parent\"><img src=\"https://colab.research.google.com/assets/colab-badge.svg\" alt=\"Open In Colab\"/></a>"
      ]
    },
    {
      "cell_type": "code",
      "execution_count": 11,
      "metadata": {
        "id": "qP_4L-Iywkhg"
      },
      "outputs": [],
      "source": [
        "def getMean(num):\n",
        "  if len(num)==0:\n",
        "    return 0\n",
        "  else:\n",
        "    cur_sum=0\n",
        "    for i in num:\n",
        "      cur_sum=cur_sum+i\n",
        "    return cur_sum/len(num)\n"
      ]
    },
    {
      "cell_type": "code",
      "source": [
        "def getmode(num):\n",
        "  max_count=(0,0)\n",
        "  for i in num:\n",
        "    occurences=num.count(i)\n",
        "    if(occurences>max_count[0]):\n",
        "      max_count=(occurences,i)\n",
        "  return max_count[1]\n"
      ],
      "metadata": {
        "id": "E1aO9h2KyCMH"
      },
      "execution_count": 1,
      "outputs": []
    },
    {
      "cell_type": "code",
      "source": [
        "def getmedian(num):\n",
        "  num.sort()\n",
        "  if len(num)%2!=0:\n",
        "    middle_ind=int((len(num)-1)/2)\n",
        "    return num[middle_ind]\n",
        "  else:\n",
        "    mid_ind1=int((len(num)/2))\n",
        "    mid_ind2=int((len(num)/2)-1)\n",
        "    return int(getMean([num[mid_ind1],num[mid_ind2]]))"
      ],
      "metadata": {
        "id": "6SesWTVDKi3j"
      },
      "execution_count": 13,
      "outputs": []
    },
    {
      "cell_type": "code",
      "source": [
        "def sd(num):\n",
        "  if len(num)==0:\n",
        "    return 0\n",
        "  else:\n",
        "    mean=getMean(num)\n",
        "    std_dev=0\n",
        "    for i in num:\n",
        "      std_dev+=(i-mean)**2\n",
        "    return (std_dev/len(num))**0.5"
      ],
      "metadata": {
        "id": "1K3dEkhLLgHz"
      },
      "execution_count": 3,
      "outputs": []
    },
    {
      "cell_type": "code",
      "source": [
        "def var(num):\n",
        "  return sd(num)**2"
      ],
      "metadata": {
        "id": "Kw6eMQbyMMDA"
      },
      "execution_count": 15,
      "outputs": []
    },
    {
      "cell_type": "code",
      "source": [
        "def getStandardization(num):\n",
        "  st=[]\n",
        "  mean=getMean(num)\n",
        "  st_dev=sd(num)\n",
        "  for i in num:\n",
        "    st.append(i-mean/st_dev)\n",
        "  return st "
      ],
      "metadata": {
        "id": "kbXC9FasMYbL"
      },
      "execution_count": 25,
      "outputs": []
    },
    {
      "cell_type": "code",
      "source": [
        "def minmaxstd(num):\n",
        "  res=[]\n",
        "  if len(num)==0:\n",
        "    return res\n",
        "  else:\n",
        "    min_val=min(num)\n",
        "    max_val=max(num)\n",
        "    for i in num:\n",
        "      res.append((i-min_val)/(max_val-min_val))\n",
        "    return res"
      ],
      "metadata": {
        "id": "-cJ6E6nhM34U"
      },
      "execution_count": 26,
      "outputs": []
    },
    {
      "cell_type": "code",
      "source": [
        "num=[1,2,3,4,5,5,7,8,9,10]\n",
        "getMean(num)\n"
      ],
      "metadata": {
        "colab": {
          "base_uri": "https://localhost:8080/"
        },
        "id": "5u_73tQHNomL",
        "outputId": "39f0fcc9-5320-4504-df69-5bbded3eeffd"
      },
      "execution_count": 18,
      "outputs": [
        {
          "output_type": "execute_result",
          "data": {
            "text/plain": [
              "5.4"
            ]
          },
          "metadata": {},
          "execution_count": 18
        }
      ]
    },
    {
      "cell_type": "code",
      "source": [
        "getmode(num)\n"
      ],
      "metadata": {
        "colab": {
          "base_uri": "https://localhost:8080/"
        },
        "id": "uxv-17LXOsGI",
        "outputId": "9e67137b-7411-471d-fa1b-8a463ef5a341"
      },
      "execution_count": 19,
      "outputs": [
        {
          "output_type": "execute_result",
          "data": {
            "text/plain": [
              "5"
            ]
          },
          "metadata": {},
          "execution_count": 19
        }
      ]
    },
    {
      "cell_type": "code",
      "source": [
        "getmedian(num)\n"
      ],
      "metadata": {
        "colab": {
          "base_uri": "https://localhost:8080/"
        },
        "id": "orgttXZwOvW9",
        "outputId": "0604d15c-4cc4-4db5-f121-8b5f9d096193"
      },
      "execution_count": 20,
      "outputs": [
        {
          "output_type": "execute_result",
          "data": {
            "text/plain": [
              "5"
            ]
          },
          "metadata": {},
          "execution_count": 20
        }
      ]
    },
    {
      "cell_type": "code",
      "source": [
        "sd(num)\n"
      ],
      "metadata": {
        "colab": {
          "base_uri": "https://localhost:8080/"
        },
        "id": "MS0sHfWBOyZA",
        "outputId": "3ecb0ffc-b036-4232-8cf3-ef9f15b17b5d"
      },
      "execution_count": 21,
      "outputs": [
        {
          "output_type": "execute_result",
          "data": {
            "text/plain": [
              "2.870540018881465"
            ]
          },
          "metadata": {},
          "execution_count": 21
        }
      ]
    },
    {
      "cell_type": "code",
      "source": [
        "var(num)\n"
      ],
      "metadata": {
        "colab": {
          "base_uri": "https://localhost:8080/"
        },
        "id": "EfsfwHN3O1Rn",
        "outputId": "e1709cb0-f09f-4f42-e1b1-2a6840f3e350"
      },
      "execution_count": 22,
      "outputs": [
        {
          "output_type": "execute_result",
          "data": {
            "text/plain": [
              "8.24"
            ]
          },
          "metadata": {},
          "execution_count": 22
        }
      ]
    },
    {
      "cell_type": "code",
      "source": [
        "getStandardization(num)\n"
      ],
      "metadata": {
        "colab": {
          "base_uri": "https://localhost:8080/"
        },
        "id": "I-RbLJpOO4Nq",
        "outputId": "7a2d30ac-910c-4edd-e251-b3b64e463005"
      },
      "execution_count": 27,
      "outputs": [
        {
          "output_type": "execute_result",
          "data": {
            "text/plain": [
              "[-0.8811791385873677,\n",
              " 0.11882086141263226,\n",
              " 1.1188208614126323,\n",
              " 2.1188208614126323,\n",
              " 3.1188208614126323,\n",
              " 3.1188208614126323,\n",
              " 5.118820861412632,\n",
              " 6.118820861412632,\n",
              " 7.118820861412632,\n",
              " 8.118820861412633]"
            ]
          },
          "metadata": {},
          "execution_count": 27
        }
      ]
    },
    {
      "cell_type": "code",
      "source": [
        "minmaxstd(num)"
      ],
      "metadata": {
        "colab": {
          "base_uri": "https://localhost:8080/"
        },
        "id": "xdUHmmtoO7Fj",
        "outputId": "7ab66aff-eaf1-4739-8d1c-3471e4412022"
      },
      "execution_count": 28,
      "outputs": [
        {
          "output_type": "execute_result",
          "data": {
            "text/plain": [
              "[0.0,\n",
              " 0.1111111111111111,\n",
              " 0.2222222222222222,\n",
              " 0.3333333333333333,\n",
              " 0.4444444444444444,\n",
              " 0.4444444444444444,\n",
              " 0.6666666666666666,\n",
              " 0.7777777777777778,\n",
              " 0.8888888888888888,\n",
              " 1.0]"
            ]
          },
          "metadata": {},
          "execution_count": 28
        }
      ]
    }
  ]
}