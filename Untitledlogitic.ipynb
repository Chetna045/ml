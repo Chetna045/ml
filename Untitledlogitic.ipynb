{
  "nbformat": 4,
  "nbformat_minor": 0,
  "metadata": {
    "colab": {
      "provenance": [],
      "authorship_tag": "ABX9TyMID1xAWZEnqEu0rT1zpfh0",
      "include_colab_link": true
    },
    "kernelspec": {
      "name": "python3",
      "display_name": "Python 3"
    },
    "language_info": {
      "name": "python"
    }
  },
  "cells": [
    {
      "cell_type": "markdown",
      "metadata": {
        "id": "view-in-github",
        "colab_type": "text"
      },
      "source": [
        "<a href=\"https://colab.research.google.com/github/Chetna045/ml/blob/main/Untitledlogitic.ipynb\" target=\"_parent\"><img src=\"https://colab.research.google.com/assets/colab-badge.svg\" alt=\"Open In Colab\"/></a>"
      ]
    },
    {
      "cell_type": "code",
      "execution_count": 4,
      "metadata": {
        "id": "azH877oecVw-"
      },
      "outputs": [],
      "source": [
        "import pandas as pd\n",
        "import numpy as np\n",
        "from sklearn.model_selection import train_test_split\n",
        "from sklearn import preprocessing\n",
        "from sklearn.preprocessing import StandardScaler\n",
        "from sklearn.model_selection import KFold"
      ]
    },
    {
      "cell_type": "code",
      "source": [
        "ds=pd.read_csv(\"/Student-University.csv\",header=None,names=[\"x1\",\"x2\",\"res\"])\n"
      ],
      "metadata": {
        "id": "784mlX8TdSsk"
      },
      "execution_count": 5,
      "outputs": []
    },
    {
      "cell_type": "code",
      "source": [
        "print(ds)"
      ],
      "metadata": {
        "colab": {
          "base_uri": "https://localhost:8080/"
        },
        "id": "Ivnam85Id77k",
        "outputId": "d59b29a4-a36d-4102-b40d-84ed0044f171"
      },
      "execution_count": 6,
      "outputs": [
        {
          "output_type": "stream",
          "name": "stdout",
          "text": [
            "           x1         x2  res\n",
            "0   34.623660  78.024693    0\n",
            "1   30.286711  43.894998    0\n",
            "2   35.847409  72.902198    0\n",
            "3   60.182599  86.308552    1\n",
            "4   79.032736  75.344376    1\n",
            "..        ...        ...  ...\n",
            "95  83.489163  48.380286    1\n",
            "96  42.261701  87.103851    1\n",
            "97  99.315009  68.775409    1\n",
            "98  55.340018  64.931938    1\n",
            "99  74.775893  89.529813    1\n",
            "\n",
            "[100 rows x 3 columns]\n"
          ]
        }
      ]
    },
    {
      "cell_type": "code",
      "source": [
        "x=ds.iloc[:,[0,1]].values\n",
        "y=ds.iloc[:,2].values"
      ],
      "metadata": {
        "id": "YL9izRU_d_V0"
      },
      "execution_count": 8,
      "outputs": []
    },
    {
      "cell_type": "code",
      "source": [
        "xp=preprocessing.scale(x)"
      ],
      "metadata": {
        "id": "BRJUNqrneNTS"
      },
      "execution_count": 9,
      "outputs": []
    },
    {
      "cell_type": "code",
      "source": [
        "kf=KFold(n_splits=5)\n",
        "for train_index,test_index in kf.split(xp):\n",
        "  xtrain,xtest,ytrain,ytest=train_test_split(xp,y,test_size=0.20,random_state=0)\n",
        "  x1=xtrain[:,0]\n",
        "  x2=xtrain[:,1]\n",
        "  b0=0.0\n",
        "  b1=0.0\n",
        "  b2=0.0\n",
        "  epoch=1000\n",
        "  alpha=0.001\n",
        "  while(epoch>0):\n",
        "    for i in range(len(xtrain)):\n",
        "      pred=1/(1+np.exp(-(b0+b1*x1[i]+b2*x2[i])))\n",
        "      b0=b0+alpha*(ytrain[i]-pred)*pred*(1-pred)*1.0\n",
        "      b1=b1+alpha*(ytrain[i]-pred)*pred*(1-pred)*x1[i]\n",
        "      b2=b2+alpha*(ytrain[i]-pred)*pred*(1-pred)*x2[i]\n",
        "    epoch=epoch-1\n",
        "print(b0,\" \",b1,\" \",b2)\n",
        "final_pred=[]\n",
        "x3=xtest[:,0]\n",
        "x4=xtest[:,1]\n",
        "print(ytest)\n",
        "y_pred=[0]*len(xtest)\n",
        "for i in range(len(xtest)):\n",
        "  y_pred[i]=np.round(1/(1+np.exp(-b0+b1*x3[i]+b2*x4[i])))\n",
        "  final_pred.append(np.ceil(y_pred[i]))\n",
        "print(final_pred)\n",
        "\n",
        "\n"
      ],
      "metadata": {
        "colab": {
          "base_uri": "https://localhost:8080/"
        },
        "id": "YCtRBasIeSVq",
        "outputId": "bf478037-fef9-47ff-c8ea-c05634a45988"
      },
      "execution_count": 12,
      "outputs": [
        {
          "output_type": "stream",
          "name": "stdout",
          "text": [
            "0.4555834563364579   1.4188905996547012   1.4249057963236913\n",
            "[1 0 0 0 1 1 1 1 0 1 0 0 0 1 1 1 0 1 1 1]\n",
            "[1.0, 1.0, 1.0, 1.0, 0.0, 0.0, 1.0, 1.0, 1.0, 1.0, 1.0, 1.0, 1.0, 0.0, 1.0, 1.0, 1.0, 0.0, 1.0, 0.0]\n"
          ]
        }
      ]
    },
    {
      "cell_type": "code",
      "source": [
        "from sklearn.metrics import accuracy_score\n",
        "print(\"Accuracy\",accuracy_score(ytest,y_pred))\n"
      ],
      "metadata": {
        "colab": {
          "base_uri": "https://localhost:8080/"
        },
        "id": "SWqmKQ6Sg3IE",
        "outputId": "b2ca10dd-d317-4f5d-fa0b-44aa48d7c797"
      },
      "execution_count": 13,
      "outputs": [
        {
          "output_type": "stream",
          "name": "stdout",
          "text": [
            "Accuracy 0.35\n"
          ]
        }
      ]
    }
  ]
}