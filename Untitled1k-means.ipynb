{
  "nbformat": 4,
  "nbformat_minor": 0,
  "metadata": {
    "colab": {
      "provenance": [],
      "authorship_tag": "ABX9TyPKjL8Xk2VdxZFRK+eh/uy/",
      "include_colab_link": true
    },
    "kernelspec": {
      "name": "python3",
      "display_name": "Python 3"
    },
    "language_info": {
      "name": "python"
    }
  },
  "cells": [
    {
      "cell_type": "markdown",
      "metadata": {
        "id": "view-in-github",
        "colab_type": "text"
      },
      "source": [
        "<a href=\"https://colab.research.google.com/github/Chetna045/ml/blob/main/Untitled1k-means.ipynb\" target=\"_parent\"><img src=\"https://colab.research.google.com/assets/colab-badge.svg\" alt=\"Open In Colab\"/></a>"
      ]
    },
    {
      "cell_type": "code",
      "execution_count": 39,
      "metadata": {
        "id": "trsRcVub8o2o"
      },
      "outputs": [],
      "source": [
        "import numpy as np"
      ]
    },
    {
      "cell_type": "code",
      "source": [
        "import pandas as pd"
      ],
      "metadata": {
        "id": "WsnSwot88tD4"
      },
      "execution_count": 40,
      "outputs": []
    },
    {
      "cell_type": "code",
      "source": [
        "from copy import deepcopy\n",
        "k=3\n",
        "import matplotlib.pyplot as plt"
      ],
      "metadata": {
        "id": "5uNFH5rU8wTz"
      },
      "execution_count": 41,
      "outputs": []
    },
    {
      "cell_type": "code",
      "source": [
        "x=pd.read_csv('/kmeans - Sheet1.csv')\n",
        "x"
      ],
      "metadata": {
        "colab": {
          "base_uri": "https://localhost:8080/",
          "height": 363
        },
        "id": "qKUgS20c9FDh",
        "outputId": "2797f1bb-d9ed-46e3-d33d-24c2c93f7a28"
      },
      "execution_count": 42,
      "outputs": [
        {
          "output_type": "execute_result",
          "data": {
            "text/plain": [
              "    x1   x2\n",
              "0  5.9  3.2\n",
              "1  4.6  2.9\n",
              "2  6.2  2.8\n",
              "3  4.7  3.2\n",
              "4  5.5  4.2\n",
              "5  5.0  3.0\n",
              "6  4.9  3.1\n",
              "7  6.7  3.1\n",
              "8  5.1  3.8\n",
              "9  6.0  3.0"
            ],
            "text/html": [
              "\n",
              "  <div id=\"df-1b50b2d8-62c9-4b38-b3f4-7a3d3912ef45\">\n",
              "    <div class=\"colab-df-container\">\n",
              "      <div>\n",
              "<style scoped>\n",
              "    .dataframe tbody tr th:only-of-type {\n",
              "        vertical-align: middle;\n",
              "    }\n",
              "\n",
              "    .dataframe tbody tr th {\n",
              "        vertical-align: top;\n",
              "    }\n",
              "\n",
              "    .dataframe thead th {\n",
              "        text-align: right;\n",
              "    }\n",
              "</style>\n",
              "<table border=\"1\" class=\"dataframe\">\n",
              "  <thead>\n",
              "    <tr style=\"text-align: right;\">\n",
              "      <th></th>\n",
              "      <th>x1</th>\n",
              "      <th>x2</th>\n",
              "    </tr>\n",
              "  </thead>\n",
              "  <tbody>\n",
              "    <tr>\n",
              "      <th>0</th>\n",
              "      <td>5.9</td>\n",
              "      <td>3.2</td>\n",
              "    </tr>\n",
              "    <tr>\n",
              "      <th>1</th>\n",
              "      <td>4.6</td>\n",
              "      <td>2.9</td>\n",
              "    </tr>\n",
              "    <tr>\n",
              "      <th>2</th>\n",
              "      <td>6.2</td>\n",
              "      <td>2.8</td>\n",
              "    </tr>\n",
              "    <tr>\n",
              "      <th>3</th>\n",
              "      <td>4.7</td>\n",
              "      <td>3.2</td>\n",
              "    </tr>\n",
              "    <tr>\n",
              "      <th>4</th>\n",
              "      <td>5.5</td>\n",
              "      <td>4.2</td>\n",
              "    </tr>\n",
              "    <tr>\n",
              "      <th>5</th>\n",
              "      <td>5.0</td>\n",
              "      <td>3.0</td>\n",
              "    </tr>\n",
              "    <tr>\n",
              "      <th>6</th>\n",
              "      <td>4.9</td>\n",
              "      <td>3.1</td>\n",
              "    </tr>\n",
              "    <tr>\n",
              "      <th>7</th>\n",
              "      <td>6.7</td>\n",
              "      <td>3.1</td>\n",
              "    </tr>\n",
              "    <tr>\n",
              "      <th>8</th>\n",
              "      <td>5.1</td>\n",
              "      <td>3.8</td>\n",
              "    </tr>\n",
              "    <tr>\n",
              "      <th>9</th>\n",
              "      <td>6.0</td>\n",
              "      <td>3.0</td>\n",
              "    </tr>\n",
              "  </tbody>\n",
              "</table>\n",
              "</div>\n",
              "      <button class=\"colab-df-convert\" onclick=\"convertToInteractive('df-1b50b2d8-62c9-4b38-b3f4-7a3d3912ef45')\"\n",
              "              title=\"Convert this dataframe to an interactive table.\"\n",
              "              style=\"display:none;\">\n",
              "        \n",
              "  <svg xmlns=\"http://www.w3.org/2000/svg\" height=\"24px\"viewBox=\"0 0 24 24\"\n",
              "       width=\"24px\">\n",
              "    <path d=\"M0 0h24v24H0V0z\" fill=\"none\"/>\n",
              "    <path d=\"M18.56 5.44l.94 2.06.94-2.06 2.06-.94-2.06-.94-.94-2.06-.94 2.06-2.06.94zm-11 1L8.5 8.5l.94-2.06 2.06-.94-2.06-.94L8.5 2.5l-.94 2.06-2.06.94zm10 10l.94 2.06.94-2.06 2.06-.94-2.06-.94-.94-2.06-.94 2.06-2.06.94z\"/><path d=\"M17.41 7.96l-1.37-1.37c-.4-.4-.92-.59-1.43-.59-.52 0-1.04.2-1.43.59L10.3 9.45l-7.72 7.72c-.78.78-.78 2.05 0 2.83L4 21.41c.39.39.9.59 1.41.59.51 0 1.02-.2 1.41-.59l7.78-7.78 2.81-2.81c.8-.78.8-2.07 0-2.86zM5.41 20L4 18.59l7.72-7.72 1.47 1.35L5.41 20z\"/>\n",
              "  </svg>\n",
              "      </button>\n",
              "      \n",
              "  <style>\n",
              "    .colab-df-container {\n",
              "      display:flex;\n",
              "      flex-wrap:wrap;\n",
              "      gap: 12px;\n",
              "    }\n",
              "\n",
              "    .colab-df-convert {\n",
              "      background-color: #E8F0FE;\n",
              "      border: none;\n",
              "      border-radius: 50%;\n",
              "      cursor: pointer;\n",
              "      display: none;\n",
              "      fill: #1967D2;\n",
              "      height: 32px;\n",
              "      padding: 0 0 0 0;\n",
              "      width: 32px;\n",
              "    }\n",
              "\n",
              "    .colab-df-convert:hover {\n",
              "      background-color: #E2EBFA;\n",
              "      box-shadow: 0px 1px 2px rgba(60, 64, 67, 0.3), 0px 1px 3px 1px rgba(60, 64, 67, 0.15);\n",
              "      fill: #174EA6;\n",
              "    }\n",
              "\n",
              "    [theme=dark] .colab-df-convert {\n",
              "      background-color: #3B4455;\n",
              "      fill: #D2E3FC;\n",
              "    }\n",
              "\n",
              "    [theme=dark] .colab-df-convert:hover {\n",
              "      background-color: #434B5C;\n",
              "      box-shadow: 0px 1px 3px 1px rgba(0, 0, 0, 0.15);\n",
              "      filter: drop-shadow(0px 1px 2px rgba(0, 0, 0, 0.3));\n",
              "      fill: #FFFFFF;\n",
              "    }\n",
              "  </style>\n",
              "\n",
              "      <script>\n",
              "        const buttonEl =\n",
              "          document.querySelector('#df-1b50b2d8-62c9-4b38-b3f4-7a3d3912ef45 button.colab-df-convert');\n",
              "        buttonEl.style.display =\n",
              "          google.colab.kernel.accessAllowed ? 'block' : 'none';\n",
              "\n",
              "        async function convertToInteractive(key) {\n",
              "          const element = document.querySelector('#df-1b50b2d8-62c9-4b38-b3f4-7a3d3912ef45');\n",
              "          const dataTable =\n",
              "            await google.colab.kernel.invokeFunction('convertToInteractive',\n",
              "                                                     [key], {});\n",
              "          if (!dataTable) return;\n",
              "\n",
              "          const docLinkHtml = 'Like what you see? Visit the ' +\n",
              "            '<a target=\"_blank\" href=https://colab.research.google.com/notebooks/data_table.ipynb>data table notebook</a>'\n",
              "            + ' to learn more about interactive tables.';\n",
              "          element.innerHTML = '';\n",
              "          dataTable['output_type'] = 'display_data';\n",
              "          await google.colab.output.renderOutput(dataTable, element);\n",
              "          const docLink = document.createElement('div');\n",
              "          docLink.innerHTML = docLinkHtml;\n",
              "          element.appendChild(docLink);\n",
              "        }\n",
              "      </script>\n",
              "    </div>\n",
              "  </div>\n",
              "  "
            ]
          },
          "metadata": {},
          "execution_count": 42
        }
      ]
    },
    {
      "cell_type": "code",
      "source": [
        "x=x[[\"x1\",\"x2\"]]\n",
        "plt.scatter(x[\"x1\"],x[\"x2\"],c=\"black\")\n",
        "plt.xlabel('AnnualIncome')\n",
        "plt.ylabel('loan amount (in thosands)')\n",
        "plt.show()"
      ],
      "metadata": {
        "colab": {
          "base_uri": "https://localhost:8080/",
          "height": 279
        },
        "id": "b4CFPwTU9f-Y",
        "outputId": "9393f3bd-ff21-4c0e-9f8b-fad5e7d04a18"
      },
      "execution_count": 43,
      "outputs": [
        {
          "output_type": "display_data",
          "data": {
            "text/plain": [
              "<Figure size 432x288 with 1 Axes>"
            ],
            "image/png": "[encoded data removed]"
          },
          "metadata": {
            "needs_background": "light"
          }
        }
      ]
    },
    {
      "cell_type": "code",
      "source": [
        "x1=x['x1'].values\n",
        "x2=x['x2'].values"
      ],
      "metadata": {
        "id": "U5ucVPQT-TjK"
      },
      "execution_count": 44,
      "outputs": []
    },
    {
      "cell_type": "code",
      "source": [
        "x1"
      ],
      "metadata": {
        "colab": {
          "base_uri": "https://localhost:8080/"
        },
        "id": "HXcbYNAu-eBr",
        "outputId": "a29153a1-30ad-4e49-df52-d444b5be994d"
      },
      "execution_count": 45,
      "outputs": [
        {
          "output_type": "execute_result",
          "data": {
            "text/plain": [
              "array([5.9, 4.6, 6.2, 4.7, 5.5, 5. , 4.9, 6.7, 5.1, 6. ])"
            ]
          },
          "metadata": {},
          "execution_count": 45
        }
      ]
    },
    {
      "cell_type": "code",
      "source": [
        "x2"
      ],
      "metadata": {
        "colab": {
          "base_uri": "https://localhost:8080/"
        },
        "id": "jTcgd-pu-fok",
        "outputId": "519a29f8-1086-487f-8ec4-5d6062a88565"
      },
      "execution_count": 46,
      "outputs": [
        {
          "output_type": "execute_result",
          "data": {
            "text/plain": [
              "array([3.2, 2.9, 2.8, 3.2, 4.2, 3. , 3.1, 3.1, 3.8, 3. ])"
            ]
          },
          "metadata": {},
          "execution_count": 46
        }
      ]
    },
    {
      "cell_type": "code",
      "source": [
        "x=np.array(list(zip(x1,x2)))\n",
        "print(x)"
      ],
      "metadata": {
        "colab": {
          "base_uri": "https://localhost:8080/"
        },
        "id": "hSltvTJ9-iDQ",
        "outputId": "48f485bb-1f7e-4435-a5eb-17f19c06b674"
      },
      "execution_count": 47,
      "outputs": [
        {
          "output_type": "stream",
          "name": "stdout",
          "text": [
            "[[5.9 3.2]\n",
            " [4.6 2.9]\n",
            " [6.2 2.8]\n",
            " [4.7 3.2]\n",
            " [5.5 4.2]\n",
            " [5.  3. ]\n",
            " [4.9 3.1]\n",
            " [6.7 3.1]\n",
            " [5.1 3.8]\n",
            " [6.  3. ]]\n"
          ]
        }
      ]
    },
    {
      "cell_type": "code",
      "source": [
        "\n",
        "c_x=[6.2,6.6,6.5]\n",
        "c_y=[3.2,3.7,3.0]"
      ],
      "metadata": {
        "id": "zkoQsTja-rrO"
      },
      "execution_count": 48,
      "outputs": []
    },
    {
      "cell_type": "code",
      "source": [
        "centroid=np.array(list(zip(c_x,c_y)))\n",
        "print(\"initial Centroids\")\n",
        "print(centroid.shape)"
      ],
      "metadata": {
        "colab": {
          "base_uri": "https://localhost:8080/"
        },
        "id": "drIhBSb9_ETj",
        "outputId": "d1fae9fc-4240-46f6-c708-e32d3bc89242"
      },
      "execution_count": 49,
      "outputs": [
        {
          "output_type": "stream",
          "name": "stdout",
          "text": [
            "initial Centroids\n",
            "(3, 2)\n"
          ]
        }
      ]
    },
    {
      "cell_type": "code",
      "source": [
        "print(centroid)"
      ],
      "metadata": {
        "colab": {
          "base_uri": "https://localhost:8080/"
        },
        "id": "Xqqyr6YH_lIV",
        "outputId": "98e3cb8a-019e-477f-adac-fd3ba5898582"
      },
      "execution_count": 50,
      "outputs": [
        {
          "output_type": "stream",
          "name": "stdout",
          "text": [
            "[[6.2 3.2]\n",
            " [6.6 3.7]\n",
            " [6.5 3. ]]\n"
          ]
        }
      ]
    },
    {
      "cell_type": "code",
      "source": [
        "centroid_old=np.zeros(centroid.shape)\n",
        "print(centroid_old)"
      ],
      "metadata": {
        "colab": {
          "base_uri": "https://localhost:8080/"
        },
        "id": "6JT1WoLV_siv",
        "outputId": "8ec6fbfc-3057-4689-9c56-8b354f1f3179"
      },
      "execution_count": 51,
      "outputs": [
        {
          "output_type": "stream",
          "name": "stdout",
          "text": [
            "[[0. 0.]\n",
            " [0. 0.]\n",
            " [0. 0.]]\n"
          ]
        }
      ]
    },
    {
      "cell_type": "code",
      "source": [
        "clusters=np.zeros(len(x))\n",
        "print(clusters)"
      ],
      "metadata": {
        "colab": {
          "base_uri": "https://localhost:8080/"
        },
        "id": "iLcrDxD9AAFI",
        "outputId": "01cfb94d-64ec-426f-923c-9f19065eba61"
      },
      "execution_count": 52,
      "outputs": [
        {
          "output_type": "stream",
          "name": "stdout",
          "text": [
            "[0. 0. 0. 0. 0. 0. 0. 0. 0. 0.]\n"
          ]
        }
      ]
    },
    {
      "cell_type": "code",
      "source": [
        "def euclidean(a,b,ax=1):\n",
        "  return np.linalg.norm(a-b,axis=ax)"
      ],
      "metadata": {
        "id": "CHFx-ijdAWts"
      },
      "execution_count": 53,
      "outputs": []
    },
    {
      "cell_type": "code",
      "source": [
        "error=euclidean(centroid,centroid_old,None)\n",
        "print(error)"
      ],
      "metadata": {
        "colab": {
          "base_uri": "https://localhost:8080/"
        },
        "id": "lx5pnAlsApLL",
        "outputId": "4bbfaefb-8942-43b0-dda7-8b105111e730"
      },
      "execution_count": 54,
      "outputs": [
        {
          "output_type": "stream",
          "name": "stdout",
          "text": [
            "12.53714481052205\n"
          ]
        }
      ]
    },
    {
      "cell_type": "code",
      "source": [
        "iterr=0"
      ],
      "metadata": {
        "id": "4xxx7UYhA1Wq"
      },
      "execution_count": 55,
      "outputs": []
    },
    {
      "cell_type": "code",
      "source": [
        "while error!=0:\n",
        "  iterr=iterr+1\n",
        "  for i in range(len(x)):\n",
        "    distances=euclidean(x[i],centroid)\n",
        "    cluster=np.argmin(distances)\n",
        "    clusters[i]=cluster\n",
        "  centroid_old=deepcopy(centroid)\n",
        "  print(\"old Centroid\")\n",
        "  print(centroid_old)\n",
        "\n",
        "  for p in range(k):\n",
        "      points=[x[j] for j in range(len(x)) if clusters[j]==p]\n",
        "      centroid[p]=np.mean(points,axis=0)\n",
        "  print(\" New Centroids after \", iterr,\" Iteration \\n\", centroid)\n",
        "  error = euclidean(centroid, centroid_old, None)\n",
        "  print(\"Error  ... \",error)\n",
        "  print(\"Data points belong to which cluster\")\n",
        "  print(clusters)\n",
        "  print(\"********************************************************\")\n"
      ],
      "metadata": {
        "colab": {
          "base_uri": "https://localhost:8080/"
        },
        "id": "2eaKopFGA4In",
        "outputId": "8b88dafd-2e07-46cd-b2df-43453fbc679e"
      },
      "execution_count": 56,
      "outputs": [
        {
          "output_type": "stream",
          "name": "stdout",
          "text": [
            "old Centroid\n",
            "[[6.2 3.2]\n",
            " [6.6 3.7]\n",
            " [6.5 3. ]]\n",
            " New Centroids after  1  Iteration \n",
            " [[5.17142857 3.17142857]\n",
            " [5.5        4.2       ]\n",
            " [6.45       2.95      ]]\n",
            "Error  ...  1.588639515498743\n",
            "Data points belong to which cluster\n",
            "[0. 0. 2. 0. 1. 0. 0. 2. 0. 0.]\n",
            "********************************************************\n",
            "old Centroid\n",
            "[[5.17142857 3.17142857]\n",
            " [5.5        4.2       ]\n",
            " [6.45       2.95      ]]\n",
            " New Centroids after  2  Iteration \n",
            " [[4.8   3.05 ]\n",
            " [5.3   4.   ]\n",
            " [6.2   3.025]]\n",
            "Error  ...  0.548478879841925\n",
            "Data points belong to which cluster\n",
            "[2. 0. 2. 0. 1. 0. 0. 2. 1. 2.]\n",
            "********************************************************\n",
            "old Centroid\n",
            "[[4.8   3.05 ]\n",
            " [5.3   4.   ]\n",
            " [6.2   3.025]]\n",
            " New Centroids after  3  Iteration \n",
            " [[4.8   3.05 ]\n",
            " [5.3   4.   ]\n",
            " [6.2   3.025]]\n",
            "Error  ...  0.0\n",
            "Data points belong to which cluster\n",
            "[2. 0. 2. 0. 1. 0. 0. 2. 1. 2.]\n",
            "********************************************************\n"
          ]
        }
      ]
    }
  ]
}